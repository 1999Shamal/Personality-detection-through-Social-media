{
 "cells": [
  {
   "cell_type": "code",
   "execution_count": 1,
   "metadata": {},
   "outputs": [],
   "source": [
    "import numpy as np\n",
    "import pandas as pd\n",
    "import matplotlib.pyplot as plt\n",
    "import re\n",
    "import string\n",
    "import nltk"
   ]
  },
  {
   "cell_type": "code",
   "execution_count": 2,
   "metadata": {},
   "outputs": [],
   "source": [
    "data = pd.read_csv(\"mbti_cleaned.csv\")"
   ]
  },
  {
   "cell_type": "markdown",
   "metadata": {},
   "source": [
    "## Feature Extraction using TF-IDF and Count Vectorizer\n",
    "Here we create the TF-IDF Model in order to extract relevant features from the data and send it to the model for classification"
   ]
  },
  {
   "cell_type": "code",
   "execution_count": 3,
   "metadata": {},
   "outputs": [],
   "source": [
    "\n",
    "\n",
    "from sklearn.model_selection import train_test_split\n",
    "from sklearn.feature_extraction.text import CountVectorizer\n",
    "from sklearn.feature_extraction.text import TfidfTransformer"
   ]
  },
  {
   "cell_type": "code",
   "execution_count": 4,
   "metadata": {},
   "outputs": [],
   "source": [
    "data.dropna(inplace= True)\n",
    "#x_train.isna().sum()"
   ]
  },
  {
   "cell_type": "code",
   "execution_count": 5,
   "metadata": {},
   "outputs": [],
   "source": [
    "x_train, x_test, y_train, y_test = train_test_split(data['Posts'],data['type'], random_state=0)\n",
    "c_v = CountVectorizer(stop_words=\"english\")"
   ]
  },
  {
   "cell_type": "code",
   "execution_count": 6,
   "metadata": {},
   "outputs": [],
   "source": [
    "X_train_counts = c_v.fit_transform(x_train)\n",
    "tfidf_transformer = TfidfTransformer()\n",
    "X_train_tfidf = tfidf_transformer.fit_transform(X_train_counts)"
   ]
  },
  {
   "cell_type": "code",
   "execution_count": null,
   "metadata": {},
   "outputs": [],
   "source": []
  },
  {
   "cell_type": "markdown",
   "metadata": {},
   "source": [
    "## Support Vector Machines Model"
   ]
  },
  {
   "cell_type": "code",
   "execution_count": 7,
   "metadata": {},
   "outputs": [],
   "source": [
    "from sklearn.svm import LinearSVC\n",
    "clf = LinearSVC().fit(X_train_tfidf,y_train)\n",
    "y_pred = clf.predict(c_v.transform(x_test))"
   ]
  },
  {
   "cell_type": "code",
   "execution_count": 8,
   "metadata": {},
   "outputs": [
    {
     "name": "stdout",
     "output_type": "stream",
     "text": [
      "              precision    recall  f1-score   support\n",
      "\n",
      "        INFJ       0.60      0.25      0.35        48\n",
      "        ENTP       0.52      0.38      0.44       143\n",
      "        INTP       0.59      0.38      0.46        53\n",
      "        INTJ       0.56      0.36      0.44       151\n",
      "        ENTJ       0.29      0.22      0.25         9\n",
      "        INFP       0.00      0.00      0.00         8\n",
      "        ENFP       0.00      0.00      0.00         9\n",
      "        ISFP       0.50      0.18      0.27        22\n",
      "        ENFJ       0.56      0.63      0.59       337\n",
      "        ISTP       0.58      0.70      0.64       398\n",
      "        ISFJ       0.58      0.53      0.55       230\n",
      "        ISTJ       0.61      0.65      0.63       285\n",
      "        ESTP       0.58      0.41      0.48        34\n",
      "        ESFP       0.28      0.42      0.33        45\n",
      "        ESTJ       0.38      0.55      0.45        40\n",
      "        ESFJ       0.47      0.61      0.53        75\n",
      "\n",
      "    accuracy                           0.55      1887\n",
      "   macro avg       0.44      0.39      0.40      1887\n",
      "weighted avg       0.55      0.55      0.54      1887\n",
      "\n"
     ]
    },
    {
     "name": "stderr",
     "output_type": "stream",
     "text": [
      "C:\\Users\\91701\\anaconda3\\lib\\site-packages\\sklearn\\metrics\\_classification.py:1245: UndefinedMetricWarning: Precision and F-score are ill-defined and being set to 0.0 in labels with no predicted samples. Use `zero_division` parameter to control this behavior.\n",
      "  _warn_prf(average, modifier, msg_start, len(result))\n",
      "C:\\Users\\91701\\anaconda3\\lib\\site-packages\\sklearn\\metrics\\_classification.py:1245: UndefinedMetricWarning: Precision and F-score are ill-defined and being set to 0.0 in labels with no predicted samples. Use `zero_division` parameter to control this behavior.\n",
      "  _warn_prf(average, modifier, msg_start, len(result))\n",
      "C:\\Users\\91701\\anaconda3\\lib\\site-packages\\sklearn\\metrics\\_classification.py:1245: UndefinedMetricWarning: Precision and F-score are ill-defined and being set to 0.0 in labels with no predicted samples. Use `zero_division` parameter to control this behavior.\n",
      "  _warn_prf(average, modifier, msg_start, len(result))\n"
     ]
    }
   ],
   "source": [
    "from sklearn import metrics\n",
    "print(metrics.classification_report(y_test,y_pred,target_names=data['type'].unique()))\n"
   ]
  },
  {
   "cell_type": "code",
   "execution_count": 9,
   "metadata": {},
   "outputs": [
    {
     "name": "stdout",
     "output_type": "stream",
     "text": [
      "55.21992580816111\n"
     ]
    }
   ],
   "source": [
    "print(metrics.accuracy_score(y_test,y_pred)*100)"
   ]
  },
  {
   "cell_type": "markdown",
   "metadata": {},
   "source": [
    "# Hyper Parameter Tuning"
   ]
  },
  {
   "cell_type": "code",
   "execution_count": null,
   "metadata": {},
   "outputs": [
    {
     "name": "stdout",
     "output_type": "stream",
     "text": [
      "C is:  0.1 Accuracy is : 0.566507684154743\n",
      "C is:  0.11 Accuracy is : 0.5659777424483307\n",
      "C is:  0.12 Accuracy is : 0.5675675675675675\n",
      "C is:  0.13 Accuracy is : 0.566507684154743\n",
      "C is:  0.13999999999999999 Accuracy is : 0.5659777424483307\n",
      "C is:  0.14999999999999997 Accuracy is : 0.5670376258611552\n",
      "C is:  0.15999999999999998 Accuracy is : 0.5670376258611552\n",
      "C is:  0.16999999999999998 Accuracy is : 0.5686274509803921\n",
      "C is:  0.17999999999999997 Accuracy is : 0.5680975092739798\n",
      "C is:  0.18999999999999995 Accuracy is : 0.5680975092739798\n",
      "C is:  0.19999999999999996 Accuracy is : 0.5670376258611552\n",
      "C is:  0.20999999999999996 Accuracy is : 0.566507684154743\n",
      "C is:  0.21999999999999995 Accuracy is : 0.5649178590355061\n",
      "C is:  0.22999999999999995 Accuracy is : 0.5654478007419184\n",
      "C is:  0.23999999999999994 Accuracy is : 0.5643879173290938\n",
      "C is:  0.24999999999999992 Accuracy is : 0.5633280339162692\n",
      "C is:  0.2599999999999999 Accuracy is : 0.5643879173290938\n",
      "C is:  0.2699999999999999 Accuracy is : 0.5643879173290938\n",
      "C is:  0.2799999999999999 Accuracy is : 0.5633280339162692\n"
     ]
    }
   ],
   "source": [
    "C = np.arange(0.1,1,0.01)\n",
    "accuracy=[]\n",
    "for i in C:\n",
    "    clf = LinearSVC(C=i).fit(X_train_tfidf,y_train)\n",
    "    y_pred = clf.predict(c_v.transform(x_test))\n",
    "    print(\"C is: \",i,\"Accuracy is :\",metrics.accuracy_score(y_test,y_pred))\n",
    "    accuracy.append(metrics.accuracy_score(y_test,y_pred))"
   ]
  },
  {
   "cell_type": "code",
   "execution_count": null,
   "metadata": {},
   "outputs": [],
   "source": [
    "print(accuracy.index(max(accuracy)))\n",
    "C[accuracy.index(max(accuracy))]"
   ]
  },
  {
   "cell_type": "code",
   "execution_count": null,
   "metadata": {},
   "outputs": [],
   "source": [
    "clf = LinearSVC(C=0.1699).fit(X_train_tfidf,y_train)\n",
    "y_pred = clf.predict(c_v.transform(x_test))"
   ]
  },
  {
   "cell_type": "code",
   "execution_count": null,
   "metadata": {},
   "outputs": [],
   "source": [
    "metrics.accuracy_score(y_test,y_pred)*100   # best Accuracy "
   ]
  },
  {
   "cell_type": "code",
   "execution_count": null,
   "metadata": {},
   "outputs": [],
   "source": []
  }
 ],
 "metadata": {
  "kernelspec": {
   "display_name": "Python 3",
   "language": "python",
   "name": "python3"
  },
  "language_info": {
   "codemirror_mode": {
    "name": "ipython",
    "version": 3
   },
   "file_extension": ".py",
   "mimetype": "text/x-python",
   "name": "python",
   "nbconvert_exporter": "python",
   "pygments_lexer": "ipython3",
   "version": "3.8.8"
  }
 },
 "nbformat": 4,
 "nbformat_minor": 2
}
